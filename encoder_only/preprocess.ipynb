{
  "cells": [
    {
      "cell_type": "markdown",
      "metadata": {
        "id": "4oTwbOtpmMIX"
      },
      "source": [
        "##Step 1: Importing Libraries"
      ]
    },
    {
      "cell_type": "code",
      "execution_count": null,
      "metadata": {
        "id": "TERgudYhmNvD"
      },
      "outputs": [],
      "source": [
        "import pandas as pd\n",
        "import numpy as np\n",
        "import math\n",
        "from sklearn.model_selection import train_test_split\n",
        "\n",
        "##This step is optional and may be skipped if not running on Google Colab or if not using Google Drive for data storage.\n",
        "from google.colab import drive\n",
        "drive.mount('/content/drive')"
      ]
    },
    {
      "cell_type": "markdown",
      "metadata": {
        "id": "Qd6nUjdymcE8"
      },
      "source": [
        "## Step 2: Loading Data\n",
        "This step reads the CSV file, shuffles the data, and saves the shuffled dataframe in a new CSV file."
      ]
    },
    {
      "cell_type": "code",
      "execution_count": null,
      "metadata": {
        "id": "VCct4x-XmmVm"
      },
      "outputs": [],
      "source": [
        "data = pd.read_csv(\"/content/drive/MyDrive/projects/finetuning_LLMs_with_MIRTE_data/data/MITRE_Tactic_and_Techniques_Descriptions.csv\", encoding='latin-1')\n",
        "shuffled_data = data.sample(frac=1).reset_index(drop=True)\n",
        "shuffled_data.to_csv('/content/drive/MyDrive/projects/finetuning_LLMs_with_MIRTE_data/data/shuffled_new_MITRE.csv', index=False)\n",
        "shuffled_data"
      ]
    },
    {
      "cell_type": "markdown",
      "metadata": {
        "id": "mJJHW41rnPdH"
      },
      "source": [
        "##Step 3: Cleaning Dataset for training\n",
        "The data is read into a Pandas DataFrame named data. Columns 'URL' and 'Technique' are dropped from the DataFrame, and the column 'Technique_ID' is renamed to 'ID'. The code then extracts unique tactic names from columns 'Tactic1' to 'Tactic4' and creates a list my_list containing only non-null string values. Finally, a list Tactic_column is defined to store the column names 'Tactic1' to 'Tactic4'. These operations prepare the data by cleaning unnecessary columns, renaming columns, extracting unique tactic names, and defining the relevant columns for further processing or analysis."
      ]
    },
    {
      "cell_type": "code",
      "execution_count": null,
      "metadata": {
        "id": "JUR7M88jnSez"
      },
      "outputs": [],
      "source": [
        "data = pd.read_csv(\"/content/drive/MyDrive/projects/finetuning_LLMs_with_MIRTE_data/data/shuffled_new_MITRE.csv\")\n",
        "data = data.drop(columns=['URL', 'Technique'])\n",
        "data.rename(columns={'Technique_ID': 'ID'}, inplace=True)\n",
        "\n",
        "unique_tactic_names = pd.Series(data['Tactic1'].tolist() + data['Tactic2'].tolist() + data['Tactic3'].tolist() + data['Tactic4'].tolist()).unique()\n",
        "my_list = [x for x in unique_tactic_names if (isinstance(x, str) or not math.isnan(x))]\n",
        "Tactic_column = ['Tactic1', 'Tactic2', 'Tactic3', 'Tactic4']\n",
        "data"
      ]
    },
    {
      "cell_type": "markdown",
      "metadata": {
        "id": "pa_Uch_joJRF"
      },
      "source": [
        "We have two options for saving data. Option one is used to keep all the data for training, while option two is used when evaluation is needed."
      ]
    },
    {
      "cell_type": "code",
      "execution_count": null,
      "metadata": {
        "id": "BEY2SdLcos0D"
      },
      "outputs": [],
      "source": [
        "#Option 1\n",
        "data.to_csv('/content/drive/MyDrive/cleaned_shuffled_new_MITRE.csv', index=False)\n",
        "\n",
        "\n",
        "#option 2\n",
        "#split data into train, test, val\n",
        "train_df, test_df = train_test_split(data, test_size=0.1, random_state=42)\n",
        "train_df , val_df = train_test_split(train_df, test_size=0.1, random_state=42)\n",
        "train_df.to_csv('/content/drive/MyDrive/projects/cleaned_MITRE_data_trainset.csv', index=False)\n",
        "test_df.to_csv('/content/drive/MyDrive/projects/cleaned_MITRE_data_testset.csv', index=False)\n",
        "val_df.to_csv('/content/drive/MyDrive/projects/cleaned_MITRE_data_valset.csv', index=False)"
      ]
    }
  ],
  "metadata": {
    "colab": {
      "provenance": []
    },
    "kernelspec": {
      "display_name": "Python 3",
      "name": "python3"
    },
    "language_info": {
      "name": "python"
    }
  },
  "nbformat": 4,
  "nbformat_minor": 0
}
